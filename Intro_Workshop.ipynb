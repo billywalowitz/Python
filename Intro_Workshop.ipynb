{
 "cells": [
  {
   "cell_type": "markdown",
   "id": "d564a58e-19a2-4d47-9e0a-75be243d7250",
   "metadata": {},
   "source": [
    "# My First Project\n",
    "\n",
    "* This is my first project. \n",
    "* I am learning to code python\n",
    "* shift+enter to run a block of code\n",
    "* use a hashtag to create a heading\n",
    "* use an astrick to set bullet point"
   ]
  },
  {
   "cell_type": "markdown",
   "id": "cd15980c-398c-4b29-8a69-e0abdde0539a",
   "metadata": {},
   "source": [
    "function (argument, arg2, arg3,...) some only require 1 argument, some require multple arguemnt\n",
    "\n",
    "def = define. can be used to set new functions"
   ]
  },
  {
   "cell_type": "code",
   "execution_count": 25,
   "id": "3c6812e8-70ec-4320-a630-7291bd96e6f5",
   "metadata": {},
   "outputs": [],
   "source": [
    "def add_two_num(a,b):\n",
    "    return a+b"
   ]
  },
  {
   "cell_type": "code",
   "execution_count": 26,
   "id": "93b423e7-e016-4a59-9a4c-10862ff828a5",
   "metadata": {},
   "outputs": [
    {
     "data": {
      "text/plain": [
       "4"
      ]
     },
     "execution_count": 26,
     "metadata": {},
     "output_type": "execute_result"
    }
   ],
   "source": [
    "add_two_num(2,2)"
   ]
  },
  {
   "cell_type": "code",
   "execution_count": 27,
   "id": "3ecbfff9-6842-4e8b-8859-b48a08d5032a",
   "metadata": {},
   "outputs": [
    {
     "name": "stdout",
     "output_type": "stream",
     "text": [
      "2 2 2\n"
     ]
    }
   ],
   "source": [
    "print(2,2,2)"
   ]
  },
  {
   "cell_type": "markdown",
   "id": "b2d86c34-5dcc-421a-81ee-760ee7e84d49",
   "metadata": {},
   "source": [
    "# Data Types\n",
    "* Numbers - numbers - int (whole number) or float (float has decimal point)\n",
    "* Strings - text/alphanumeric\n",
    "* Lists - store multiple items in same variable\n",
    "* Tuples - like lists but you cant add, remove, modify items in list\n",
    "* Dictionary - have keys to define what you want"
   ]
  },
  {
   "cell_type": "markdown",
   "id": "caec3dbd-285b-4ce8-8aef-67cba0ecee76",
   "metadata": {},
   "source": [
    "# Numbers"
   ]
  },
  {
   "cell_type": "code",
   "execution_count": 20,
   "id": "c65bed80-fe1f-4606-b6d6-bce3ca7107fb",
   "metadata": {},
   "outputs": [],
   "source": [
    "num1 = 2\n",
    "num2 = 3.698"
   ]
  },
  {
   "cell_type": "code",
   "execution_count": 21,
   "id": "d0783752-53cf-40dd-a22a-ab2627b97f19",
   "metadata": {},
   "outputs": [
    {
     "name": "stdout",
     "output_type": "stream",
     "text": [
      "5.698\n"
     ]
    }
   ],
   "source": [
    "print(num1 + num2)"
   ]
  },
  {
   "cell_type": "code",
   "execution_count": 22,
   "id": "52737e5d-404d-4b98-a3c2-ed94bbcf1b6c",
   "metadata": {},
   "outputs": [
    {
     "data": {
      "text/plain": [
       "int"
      ]
     },
     "execution_count": 22,
     "metadata": {},
     "output_type": "execute_result"
    }
   ],
   "source": [
    "type(num1)"
   ]
  },
  {
   "cell_type": "code",
   "execution_count": 23,
   "id": "4a056ab2-b95d-4eb8-921f-85fd2cc6da37",
   "metadata": {},
   "outputs": [
    {
     "data": {
      "text/plain": [
       "float"
      ]
     },
     "execution_count": 23,
     "metadata": {},
     "output_type": "execute_result"
    }
   ],
   "source": [
    "type(num2)"
   ]
  },
  {
   "cell_type": "code",
   "execution_count": 24,
   "id": "eb76d3e7-a930-44c3-8c14-4fe1f35fe6e1",
   "metadata": {},
   "outputs": [
    {
     "data": {
      "text/plain": [
       "float"
      ]
     },
     "execution_count": 24,
     "metadata": {},
     "output_type": "execute_result"
    }
   ],
   "source": [
    "type(num1 + num2)"
   ]
  },
  {
   "cell_type": "markdown",
   "id": "a403aeff-016d-4894-972f-292d06072b73",
   "metadata": {},
   "source": [
    "# Strings\n",
    "\n",
    "single or double quote both indicate string(\"\" or '') but you need to make sure both sides are the same quote - double double or single single\n",
    "if you dont use quotes it treats it as a value/variable but if you use quotes it treats it as a string (see line 37)\n",
    "you cannot add strings and numbers together (see line 40)\n",
    "\n",
    "##### Positions\n",
    "python starts a 0\n",
    "var[] position number goes in []. will throw error if position is invalid\n",
    "\n",
    "use + to concatinate strings"
   ]
  },
  {
   "cell_type": "code",
   "execution_count": 28,
   "id": "6c5be7d9-2f3d-4b7d-959c-92f56e2a5d1c",
   "metadata": {},
   "outputs": [
    {
     "name": "stdout",
     "output_type": "stream",
     "text": [
      "2\n"
     ]
    }
   ],
   "source": [
    "print(num1)"
   ]
  },
  {
   "cell_type": "code",
   "execution_count": 29,
   "id": "20bb25b1-1963-495d-afe8-221725472f40",
   "metadata": {},
   "outputs": [],
   "source": [
    "num1 = \"segoihweflks\""
   ]
  },
  {
   "cell_type": "code",
   "execution_count": 30,
   "id": "b2848c68-0109-47bb-98ef-3b7ca1621afa",
   "metadata": {},
   "outputs": [
    {
     "name": "stdout",
     "output_type": "stream",
     "text": [
      "segoihweflks\n"
     ]
    }
   ],
   "source": [
    "print(num1)"
   ]
  },
  {
   "cell_type": "code",
   "execution_count": 31,
   "id": "36d80241-2df5-4996-ac70-0a4dadb71c56",
   "metadata": {},
   "outputs": [
    {
     "data": {
      "text/plain": [
       "str"
      ]
     },
     "execution_count": 31,
     "metadata": {},
     "output_type": "execute_result"
    }
   ],
   "source": [
    "type(num1)"
   ]
  },
  {
   "cell_type": "code",
   "execution_count": 34,
   "id": "b2755df6-84c9-49c1-af71-6226b784fce3",
   "metadata": {},
   "outputs": [],
   "source": [
    "first_name = \"Billy\"\n",
    "last_name = 'Walowitz'"
   ]
  },
  {
   "cell_type": "code",
   "execution_count": 35,
   "id": "5e768e2c-97a6-4aaf-b548-35004c952e08",
   "metadata": {},
   "outputs": [
    {
     "data": {
      "text/plain": [
       "str"
      ]
     },
     "execution_count": 35,
     "metadata": {},
     "output_type": "execute_result"
    }
   ],
   "source": [
    "type(first_name)"
   ]
  },
  {
   "cell_type": "code",
   "execution_count": 36,
   "id": "33d5dae2-2478-40aa-8f22-ed21df3233aa",
   "metadata": {},
   "outputs": [
    {
     "data": {
      "text/plain": [
       "str"
      ]
     },
     "execution_count": 36,
     "metadata": {},
     "output_type": "execute_result"
    }
   ],
   "source": [
    "type(last_name)"
   ]
  },
  {
   "cell_type": "code",
   "execution_count": 37,
   "id": "5af4d566-2286-4e74-9830-7d130c88bc3d",
   "metadata": {},
   "outputs": [
    {
     "ename": "NameError",
     "evalue": "name 'billy' is not defined",
     "output_type": "error",
     "traceback": [
      "\u001b[1;31m---------------------------------------------------------------------------\u001b[0m",
      "\u001b[1;31mNameError\u001b[0m                                 Traceback (most recent call last)",
      "\u001b[1;32m~\\AppData\\Local\\Temp\\ipykernel_8388\\3946882764.py\u001b[0m in \u001b[0;36m<module>\u001b[1;34m\u001b[0m\n\u001b[1;32m----> 1\u001b[1;33m \u001b[0mtest\u001b[0m \u001b[1;33m=\u001b[0m \u001b[0mbilly\u001b[0m\u001b[1;33m\u001b[0m\u001b[1;33m\u001b[0m\u001b[0m\n\u001b[0m",
      "\u001b[1;31mNameError\u001b[0m: name 'billy' is not defined"
     ]
    }
   ],
   "source": [
    "test = billy"
   ]
  },
  {
   "cell_type": "code",
   "execution_count": 38,
   "id": "e63e9d95-ff73-447e-b514-905977ab4c77",
   "metadata": {},
   "outputs": [],
   "source": [
    "test = 'billy'"
   ]
  },
  {
   "cell_type": "code",
   "execution_count": 39,
   "id": "abfe3f18-a034-438e-8859-13afec8c58e3",
   "metadata": {},
   "outputs": [
    {
     "name": "stdout",
     "output_type": "stream",
     "text": [
      "billy\n"
     ]
    }
   ],
   "source": [
    "print(test)"
   ]
  },
  {
   "cell_type": "code",
   "execution_count": 81,
   "id": "27f31319-2822-41db-9bd3-321f20a21b1b",
   "metadata": {},
   "outputs": [
    {
     "ename": "TypeError",
     "evalue": "can only concatenate str (not \"float\") to str",
     "output_type": "error",
     "traceback": [
      "\u001b[1;31m---------------------------------------------------------------------------\u001b[0m",
      "\u001b[1;31mTypeError\u001b[0m                                 Traceback (most recent call last)",
      "\u001b[1;32m~\\AppData\\Local\\Temp\\ipykernel_8388\\1645596815.py\u001b[0m in \u001b[0;36m<module>\u001b[1;34m\u001b[0m\n\u001b[0;32m      1\u001b[0m \u001b[1;31m#trying to add string and int\u001b[0m\u001b[1;33m\u001b[0m\u001b[1;33m\u001b[0m\u001b[0m\n\u001b[1;32m----> 2\u001b[1;33m \u001b[0mnum1\u001b[0m \u001b[1;33m+\u001b[0m \u001b[0mnum2\u001b[0m\u001b[1;33m\u001b[0m\u001b[1;33m\u001b[0m\u001b[0m\n\u001b[0m",
      "\u001b[1;31mTypeError\u001b[0m: can only concatenate str (not \"float\") to str"
     ]
    }
   ],
   "source": [
    "#trying to add string and int\n",
    "num1 + num2"
   ]
  },
  {
   "cell_type": "code",
   "execution_count": 82,
   "id": "9416f118-5d91-41e6-befa-d80f1b36a6c5",
   "metadata": {},
   "outputs": [
    {
     "ename": "SyntaxError",
     "evalue": "invalid syntax (206509781.py, line 2)",
     "output_type": "error",
     "traceback": [
      "\u001b[1;36m  File \u001b[1;32m\"C:\\Users\\billy\\AppData\\Local\\Temp\\ipykernel_8388\\206509781.py\"\u001b[1;36m, line \u001b[1;32m2\u001b[0m\n\u001b[1;33m    salary = $60000\u001b[0m\n\u001b[1;37m             ^\u001b[0m\n\u001b[1;31mSyntaxError\u001b[0m\u001b[1;31m:\u001b[0m invalid syntax\n"
     ]
    }
   ],
   "source": [
    "# $ is not a valid sign\n",
    "salary = $60000"
   ]
  },
  {
   "cell_type": "code",
   "execution_count": 43,
   "id": "16b38faf-ba5c-4227-98c3-de77401319b2",
   "metadata": {},
   "outputs": [],
   "source": [
    "salary ='$60000'"
   ]
  },
  {
   "cell_type": "code",
   "execution_count": 44,
   "id": "5f5a2328-520f-4252-905c-a2706a3d37a0",
   "metadata": {},
   "outputs": [
    {
     "ename": "TypeError",
     "evalue": "unsupported operand type(s) for /: 'str' and 'int'",
     "output_type": "error",
     "traceback": [
      "\u001b[1;31m---------------------------------------------------------------------------\u001b[0m",
      "\u001b[1;31mTypeError\u001b[0m                                 Traceback (most recent call last)",
      "\u001b[1;32m~\\AppData\\Local\\Temp\\ipykernel_8388\\1041217865.py\u001b[0m in \u001b[0;36m<module>\u001b[1;34m\u001b[0m\n\u001b[1;32m----> 1\u001b[1;33m \u001b[0msalary\u001b[0m\u001b[1;33m/\u001b[0m\u001b[1;36m12\u001b[0m\u001b[1;33m\u001b[0m\u001b[1;33m\u001b[0m\u001b[0m\n\u001b[0m",
      "\u001b[1;31mTypeError\u001b[0m: unsupported operand type(s) for /: 'str' and 'int'"
     ]
    }
   ],
   "source": [
    "salary/12"
   ]
  },
  {
   "cell_type": "code",
   "execution_count": 45,
   "id": "edb0691b-09cf-48a1-a6c8-0e7bdfd3f65f",
   "metadata": {},
   "outputs": [
    {
     "name": "stdout",
     "output_type": "stream",
     "text": [
      "Billy\n"
     ]
    }
   ],
   "source": [
    "print(first_name)"
   ]
  },
  {
   "cell_type": "code",
   "execution_count": 48,
   "id": "4923fe93-f30b-42c4-b3d1-14db24eaef9f",
   "metadata": {},
   "outputs": [
    {
     "name": "stdout",
     "output_type": "stream",
     "text": [
      "Walowitz\n"
     ]
    }
   ],
   "source": [
    "print(last_name)"
   ]
  },
  {
   "cell_type": "code",
   "execution_count": 50,
   "id": "8c88ca36-ce73-40e5-981a-e34b25da1d9d",
   "metadata": {},
   "outputs": [],
   "source": [
    "full_name = first_name+\" \"+last_name"
   ]
  },
  {
   "cell_type": "code",
   "execution_count": 51,
   "id": "9d46876f-49ab-4cef-85f8-10463ba8e4b3",
   "metadata": {},
   "outputs": [
    {
     "name": "stdout",
     "output_type": "stream",
     "text": [
      "Billy Walowitz\n"
     ]
    }
   ],
   "source": [
    "print(full_name)"
   ]
  },
  {
   "cell_type": "code",
   "execution_count": 52,
   "id": "0cea3b06-f913-47e4-854c-26e7c8d28f4d",
   "metadata": {},
   "outputs": [
    {
     "data": {
      "text/plain": [
       "'l'"
      ]
     },
     "execution_count": 52,
     "metadata": {},
     "output_type": "execute_result"
    }
   ],
   "source": [
    "full_name[8]"
   ]
  },
  {
   "cell_type": "code",
   "execution_count": 53,
   "id": "b803bf4a-2da7-4c93-bf61-4f1c0f3bbc90",
   "metadata": {},
   "outputs": [
    {
     "name": "stdout",
     "output_type": "stream",
     "text": [
      "$60000\n"
     ]
    }
   ],
   "source": [
    "print(salary)"
   ]
  },
  {
   "cell_type": "code",
   "execution_count": 70,
   "id": "4201feda-0b98-482e-80f9-d2963dd639d2",
   "metadata": {},
   "outputs": [],
   "source": [
    "salary_cleaned = salary[1:] # string to int"
   ]
  },
  {
   "cell_type": "code",
   "execution_count": 69,
   "id": "556f9be7-6599-47f9-bdad-b6e39c5af4e6",
   "metadata": {},
   "outputs": [
    {
     "data": {
      "text/plain": [
       "5000.0"
      ]
     },
     "execution_count": 69,
     "metadata": {},
     "output_type": "execute_result"
    }
   ],
   "source": [
    "int(salary_cleaned)/12 #convert salary to int and divide by 12"
   ]
  },
  {
   "cell_type": "code",
   "execution_count": 62,
   "id": "16d06d43-0ca8-4c3c-aebe-be6b4d3427dc",
   "metadata": {},
   "outputs": [
    {
     "data": {
      "text/plain": [
       "'Billy Walowitz'"
      ]
     },
     "execution_count": 62,
     "metadata": {},
     "output_type": "execute_result"
    }
   ],
   "source": [
    "full_name"
   ]
  },
  {
   "cell_type": "code",
   "execution_count": 67,
   "id": "ee31fd51-01af-4f7d-bd6f-e454b081c510",
   "metadata": {},
   "outputs": [
    {
     "data": {
      "text/plain": [
       "'Billy Walo'"
      ]
     },
     "execution_count": 67,
     "metadata": {},
     "output_type": "execute_result"
    }
   ],
   "source": [
    "full_name[0:4] # 0, 1, 2, 3\n",
    "full_name[0:10] # 0, 1, 2, ..., 9"
   ]
  },
  {
   "cell_type": "code",
   "execution_count": 68,
   "id": "d90da99a-24d1-48e1-9fa3-209ad49d1e3a",
   "metadata": {},
   "outputs": [
    {
     "data": {
      "text/plain": [
       "'Bill'"
      ]
     },
     "execution_count": 68,
     "metadata": {},
     "output_type": "execute_result"
    }
   ],
   "source": [
    "full_name[:4] # start from 0 position"
   ]
  },
  {
   "cell_type": "code",
   "execution_count": 99,
   "id": "618b0f37-4772-4f09-a2b9-b8e32ebcafd7",
   "metadata": {},
   "outputs": [
    {
     "data": {
      "text/plain": [
       "'BILLY WALOWITZ'"
      ]
     },
     "execution_count": 99,
     "metadata": {},
     "output_type": "execute_result"
    }
   ],
   "source": [
    "#uppcase function\n",
    "full_name.upper()"
   ]
  },
  {
   "cell_type": "code",
   "execution_count": 100,
   "id": "00b38854-f1dc-4f1e-9ba7-1913a8305fb7",
   "metadata": {},
   "outputs": [
    {
     "data": {
      "text/plain": [
       "'billy walowitz'"
      ]
     },
     "execution_count": 100,
     "metadata": {},
     "output_type": "execute_result"
    }
   ],
   "source": [
    "#lowercase function\n",
    "full_name.lower()"
   ]
  },
  {
   "cell_type": "markdown",
   "id": "aa98e75f-adb9-4444-8caa-c5a3a57b44c6",
   "metadata": {},
   "source": [
    "# Lists\n",
    "* print and type are two functions that we have used, but there are more\n",
    "* append function can only be used with a variable"
   ]
  },
  {
   "cell_type": "code",
   "execution_count": 73,
   "id": "392d936e-6d37-41c9-9764-654558b89199",
   "metadata": {},
   "outputs": [],
   "source": [
    "a = 5"
   ]
  },
  {
   "cell_type": "code",
   "execution_count": 75,
   "id": "578c1b06-fea3-4be5-ac14-0461d2430894",
   "metadata": {},
   "outputs": [],
   "source": [
    "age = [21, 22, 23, 24, 25]"
   ]
  },
  {
   "cell_type": "code",
   "execution_count": 76,
   "id": "871493d2-b197-4e3e-895c-ce7897d6348c",
   "metadata": {},
   "outputs": [
    {
     "data": {
      "text/plain": [
       "list"
      ]
     },
     "execution_count": 76,
     "metadata": {},
     "output_type": "execute_result"
    }
   ],
   "source": [
    "type(age)"
   ]
  },
  {
   "cell_type": "code",
   "execution_count": 79,
   "id": "5a93d3b0-7fe0-4742-b975-65de6b328492",
   "metadata": {},
   "outputs": [
    {
     "data": {
      "text/plain": [
       "[21, 22, 23]"
      ]
     },
     "execution_count": 79,
     "metadata": {},
     "output_type": "execute_result"
    }
   ],
   "source": [
    "age[0:3] #0, 1, 2"
   ]
  },
  {
   "cell_type": "code",
   "execution_count": 83,
   "id": "5adc8abb-9689-4c97-93d4-5b01a7155564",
   "metadata": {},
   "outputs": [
    {
     "data": {
      "text/plain": [
       "25"
      ]
     },
     "execution_count": 83,
     "metadata": {},
     "output_type": "execute_result"
    }
   ],
   "source": [
    "#negative indexing \n",
    "age[-1]"
   ]
  },
  {
   "cell_type": "code",
   "execution_count": 86,
   "id": "2ba6e4c8-1962-4144-a7f5-31899ff7bcfb",
   "metadata": {},
   "outputs": [],
   "source": [
    "#append function\n",
    "age.append(26)"
   ]
  },
  {
   "cell_type": "code",
   "execution_count": 88,
   "id": "ec20b421-f9d4-4ffc-ae14-367902e543d3",
   "metadata": {},
   "outputs": [
    {
     "data": {
      "text/plain": [
       "[21, 22, 23, 24, 25, 26, 26]"
      ]
     },
     "execution_count": 88,
     "metadata": {},
     "output_type": "execute_result"
    }
   ],
   "source": [
    "age #w/ 26 appended"
   ]
  },
  {
   "cell_type": "code",
   "execution_count": 92,
   "id": "1fd45630-3fa2-4aac-add6-c44009cab5cf",
   "metadata": {},
   "outputs": [],
   "source": [
    "#insert function\n",
    "age.insert(0, 20)"
   ]
  },
  {
   "cell_type": "code",
   "execution_count": 93,
   "id": "65417b0e-e0bc-409d-8e90-0c49875b3f4e",
   "metadata": {},
   "outputs": [
    {
     "data": {
      "text/plain": [
       "[20, 123, 123, 21, 22, 23, 24, 25, 26, 26]"
      ]
     },
     "execution_count": 93,
     "metadata": {},
     "output_type": "execute_result"
    }
   ],
   "source": [
    "age"
   ]
  },
  {
   "cell_type": "code",
   "execution_count": 95,
   "id": "54f811b7-6af1-4dbd-a127-8a1f25d04654",
   "metadata": {},
   "outputs": [
    {
     "data": {
      "text/plain": [
       "123"
      ]
     },
     "execution_count": 95,
     "metadata": {},
     "output_type": "execute_result"
    }
   ],
   "source": [
    "age.pop(1)"
   ]
  },
  {
   "cell_type": "code",
   "execution_count": 96,
   "id": "f158744b-e331-4619-bbba-dd60ba7f3401",
   "metadata": {},
   "outputs": [
    {
     "data": {
      "text/plain": [
       "[20, 123, 21, 22, 23, 24, 25, 26, 26]"
      ]
     },
     "execution_count": 96,
     "metadata": {},
     "output_type": "execute_result"
    }
   ],
   "source": [
    "age"
   ]
  },
  {
   "cell_type": "code",
   "execution_count": 97,
   "id": "46bc86e2-2736-4b4e-94e9-a3b0c47dc832",
   "metadata": {},
   "outputs": [
    {
     "data": {
      "text/plain": [
       "123"
      ]
     },
     "execution_count": 97,
     "metadata": {},
     "output_type": "execute_result"
    }
   ],
   "source": [
    "age.pop(1)"
   ]
  },
  {
   "cell_type": "code",
   "execution_count": 98,
   "id": "3c2fc7c8-756e-4d0c-ab47-d646d168138a",
   "metadata": {},
   "outputs": [],
   "source": [
    "age.insert(0, 123)"
   ]
  },
  {
   "cell_type": "code",
   "execution_count": 101,
   "id": "187fb384-d27a-4075-8c68-1bc06510d042",
   "metadata": {},
   "outputs": [
    {
     "data": {
      "text/plain": [
       "[123, 20, 21, 22, 23, 24, 25, 26, 26]"
      ]
     },
     "execution_count": 101,
     "metadata": {},
     "output_type": "execute_result"
    }
   ],
   "source": [
    "age"
   ]
  },
  {
   "cell_type": "code",
   "execution_count": 103,
   "id": "2274e671-4b33-42bb-8562-bc4fff9f9b7b",
   "metadata": {},
   "outputs": [
    {
     "data": {
      "text/plain": [
       "1"
      ]
     },
     "execution_count": 103,
     "metadata": {},
     "output_type": "execute_result"
    }
   ],
   "source": [
    "#count function\n",
    "age.count(25) # count the number of times the specified value appears in the list"
   ]
  },
  {
   "cell_type": "markdown",
   "id": "2cd0ab24-8d02-4c74-9650-40469b7672e2",
   "metadata": {},
   "source": [
    "# Tuples\n",
    "* can contain items from different data types"
   ]
  },
  {
   "cell_type": "code",
   "execution_count": 104,
   "id": "f02d860c-3b2c-41d8-9929-bbf50a5c3099",
   "metadata": {},
   "outputs": [],
   "source": [
    "age = (21,22, 23, 24, 25)"
   ]
  },
  {
   "cell_type": "code",
   "execution_count": 105,
   "id": "1a8a913d-e9ab-4deb-9240-53a5975da800",
   "metadata": {},
   "outputs": [
    {
     "data": {
      "text/plain": [
       "tuple"
      ]
     },
     "execution_count": 105,
     "metadata": {},
     "output_type": "execute_result"
    }
   ],
   "source": [
    "type(age)"
   ]
  },
  {
   "cell_type": "code",
   "execution_count": 106,
   "id": "09b54bcd-8358-419c-9ba3-96929da1fd79",
   "metadata": {},
   "outputs": [],
   "source": [
    "age_tuple = (21, 22, 23, 24, 25)\n",
    "age_list = [21, 22, 23, 24, 25]"
   ]
  },
  {
   "cell_type": "code",
   "execution_count": 109,
   "id": "7f1bbbf9-bfd4-4b7e-8c8e-2e4f43b877e0",
   "metadata": {},
   "outputs": [],
   "source": [
    "age_list[0] = 21"
   ]
  },
  {
   "cell_type": "code",
   "execution_count": 108,
   "id": "92f7d451-e574-4e79-9ec8-a407a753d9e1",
   "metadata": {},
   "outputs": [
    {
     "ename": "TypeError",
     "evalue": "'tuple' object does not support item assignment",
     "output_type": "error",
     "traceback": [
      "\u001b[1;31m---------------------------------------------------------------------------\u001b[0m",
      "\u001b[1;31mTypeError\u001b[0m                                 Traceback (most recent call last)",
      "\u001b[1;32m~\\AppData\\Local\\Temp\\ipykernel_8388\\4257033243.py\u001b[0m in \u001b[0;36m<module>\u001b[1;34m\u001b[0m\n\u001b[1;32m----> 1\u001b[1;33m \u001b[0mage_tuple\u001b[0m\u001b[1;33m[\u001b[0m\u001b[1;36m0\u001b[0m\u001b[1;33m]\u001b[0m \u001b[1;33m=\u001b[0m \u001b[1;36m20\u001b[0m\u001b[1;33m\u001b[0m\u001b[1;33m\u001b[0m\u001b[0m\n\u001b[0m",
      "\u001b[1;31mTypeError\u001b[0m: 'tuple' object does not support item assignment"
     ]
    }
   ],
   "source": [
    "age_tuple[0] = 20"
   ]
  },
  {
   "cell_type": "code",
   "execution_count": 111,
   "id": "149a5fc0-615d-4449-910d-7d003a912658",
   "metadata": {},
   "outputs": [
    {
     "data": {
      "text/plain": [
       "[21, 22, 23, 24, 25]"
      ]
     },
     "execution_count": 111,
     "metadata": {},
     "output_type": "execute_result"
    }
   ],
   "source": [
    "age_list"
   ]
  },
  {
   "cell_type": "code",
   "execution_count": 116,
   "id": "d43dde3c-7274-4eb2-84df-249ec9883c4d",
   "metadata": {},
   "outputs": [],
   "source": [
    "#list in list\n",
    "test = [1, 2, 3, 4, \"Billy\", \"Walowitz\", [8, 7, 6]]"
   ]
  },
  {
   "cell_type": "code",
   "execution_count": 113,
   "id": "ab894aee-e8a1-48de-b9b6-67e10720a5b0",
   "metadata": {},
   "outputs": [
    {
     "data": {
      "text/plain": [
       "list"
      ]
     },
     "execution_count": 117,
     "metadata": {},
     "output_type": "execute_result"
    }
   ],
   "source": [
    "type(test)"
   ]
  },
  {
   "cell_type": "markdown",
   "id": "c40eadab-e78c-4b81-b327-d3ee052e4d91",
   "metadata": {},
   "source": [
    "# Dictionary\n",
    "assign name to position\n",
    "if the key is gone, you lose access to the values"
   ]
  },
  {
   "cell_type": "code",
   "execution_count": 118,
   "id": "61a576e1-5d20-4714-90bd-63bf458c8ab8",
   "metadata": {},
   "outputs": [],
   "source": [
    "test = {'first_item' : 21}"
   ]
  },
  {
   "cell_type": "code",
   "execution_count": 120,
   "id": "9338ffca-53ee-4e34-a7e0-addccaef2487",
   "metadata": {},
   "outputs": [
    {
     "data": {
      "text/plain": [
       "21"
      ]
     },
     "execution_count": 120,
     "metadata": {},
     "output_type": "execute_result"
    }
   ],
   "source": [
    "test['first_item']"
   ]
  },
  {
   "cell_type": "code",
   "execution_count": 121,
   "id": "500e8e1e-2f0c-4259-a25b-b1e0613fa9f9",
   "metadata": {},
   "outputs": [
    {
     "ename": "KeyError",
     "evalue": "0",
     "output_type": "error",
     "traceback": [
      "\u001b[1;31m---------------------------------------------------------------------------\u001b[0m",
      "\u001b[1;31mKeyError\u001b[0m                                  Traceback (most recent call last)",
      "\u001b[1;32m~\\AppData\\Local\\Temp\\ipykernel_8388\\2111900679.py\u001b[0m in \u001b[0;36m<module>\u001b[1;34m\u001b[0m\n\u001b[0;32m      1\u001b[0m \u001b[1;31m#undefined key example\u001b[0m\u001b[1;33m\u001b[0m\u001b[1;33m\u001b[0m\u001b[0m\n\u001b[1;32m----> 2\u001b[1;33m \u001b[0mtest\u001b[0m\u001b[1;33m[\u001b[0m\u001b[1;36m0\u001b[0m\u001b[1;33m]\u001b[0m\u001b[1;33m\u001b[0m\u001b[1;33m\u001b[0m\u001b[0m\n\u001b[0m",
      "\u001b[1;31mKeyError\u001b[0m: 0"
     ]
    }
   ],
   "source": [
    "#undefined key example\n",
    "test[0]"
   ]
  },
  {
   "cell_type": "code",
   "execution_count": 123,
   "id": "3d0212bd-ebc6-4b75-8716-753c8488278b",
   "metadata": {},
   "outputs": [],
   "source": [
    "test = {'name' : ['Ravi', \"John\", 'Ryan', 'Tom', 'Natasha', 'Grace'],\n",
    "        'cohort' : 'MSBA', \n",
    "       'avg_GMAT' : 680}"
   ]
  },
  {
   "cell_type": "code",
   "execution_count": 125,
   "id": "6f7f11f7-f993-45fa-aeb1-9fad49c23a83",
   "metadata": {},
   "outputs": [
    {
     "data": {
      "text/plain": [
       "dict_keys(['name', 'cohort', 'avg_GMAT'])"
      ]
     },
     "execution_count": 125,
     "metadata": {},
     "output_type": "execute_result"
    }
   ],
   "source": [
    "#list all keys in dict\n",
    "test.keys()"
   ]
  },
  {
   "cell_type": "code",
   "execution_count": 126,
   "id": "5c3ac7cb-eab4-4443-b738-bfd25f1436aa",
   "metadata": {},
   "outputs": [
    {
     "data": {
      "text/plain": [
       "['Ravi', 'John', 'Ryan', 'Tom', 'Natasha', 'Grace']"
      ]
     },
     "execution_count": 126,
     "metadata": {},
     "output_type": "execute_result"
    }
   ],
   "source": [
    "test['name']"
   ]
  },
  {
   "cell_type": "code",
   "execution_count": 127,
   "id": "3933e5bc-a162-4eaf-a226-2f6c119eaebd",
   "metadata": {},
   "outputs": [
    {
     "data": {
      "text/plain": [
       "'MSBA'"
      ]
     },
     "execution_count": 127,
     "metadata": {},
     "output_type": "execute_result"
    }
   ],
   "source": [
    "test['cohort']"
   ]
  },
  {
   "cell_type": "code",
   "execution_count": 128,
   "id": "3137be86-2de2-4f7b-ba49-128ce5fa9c91",
   "metadata": {},
   "outputs": [
    {
     "data": {
      "text/plain": [
       "680"
      ]
     },
     "execution_count": 128,
     "metadata": {},
     "output_type": "execute_result"
    }
   ],
   "source": [
    "test['avg_GMAT']"
   ]
  },
  {
   "cell_type": "code",
   "execution_count": 129,
   "id": "c1e1ee6f-889b-4149-b65e-a2f580ddb730",
   "metadata": {},
   "outputs": [
    {
     "data": {
      "text/plain": [
       "dict"
      ]
     },
     "execution_count": 129,
     "metadata": {},
     "output_type": "execute_result"
    }
   ],
   "source": [
    "type(test)"
   ]
  },
  {
   "cell_type": "code",
   "execution_count": 132,
   "id": "5db3aff6-10a7-4f2e-a565-72db925cf3a0",
   "metadata": {},
   "outputs": [
    {
     "data": {
      "text/plain": [
       "['Ravi', 'John', 'Ryan', 'Tom', 'Natasha', 'Grace']"
      ]
     },
     "execution_count": 132,
     "metadata": {},
     "output_type": "execute_result"
    }
   ],
   "source": [
    "#get function\n",
    "test.get('name', None)"
   ]
  },
  {
   "cell_type": "code",
   "execution_count": 136,
   "id": "35db2ec7-4e57-480b-b572-d79baf88b952",
   "metadata": {},
   "outputs": [
    {
     "data": {
      "text/plain": [
       "dict_keys(['name', 'cohort', 'avg_GMAT'])"
      ]
     },
     "execution_count": 136,
     "metadata": {},
     "output_type": "execute_result"
    }
   ],
   "source": [
    "#get keys from dictionary\n",
    "test.keys()"
   ]
  },
  {
   "cell_type": "code",
   "execution_count": 140,
   "id": "86e5d16d-86e4-4428-9988-7f0c5d44aa4d",
   "metadata": {},
   "outputs": [
    {
     "data": {
      "text/plain": [
       "'Not Present'"
      ]
     },
     "execution_count": 140,
     "metadata": {},
     "output_type": "execute_result"
    }
   ],
   "source": [
    "test.get('xby', 'Not Present')"
   ]
  },
  {
   "cell_type": "code",
   "execution_count": 142,
   "id": "338a327f-2860-4e0d-b46b-37b12b443c6d",
   "metadata": {},
   "outputs": [
    {
     "data": {
      "text/plain": [
       "3"
      ]
     },
     "execution_count": 142,
     "metadata": {},
     "output_type": "execute_result"
    }
   ],
   "source": [
    "#length function\n",
    "len(test)"
   ]
  },
  {
   "cell_type": "code",
   "execution_count": 144,
   "id": "1ec840e4-7be3-4100-beba-69d71b17dd60",
   "metadata": {},
   "outputs": [
    {
     "data": {
      "text/plain": [
       "14"
      ]
     },
     "execution_count": 144,
     "metadata": {},
     "output_type": "execute_result"
    }
   ],
   "source": [
    "len(full_name)"
   ]
  },
  {
   "cell_type": "markdown",
   "id": "6d8f2d20-ee92-4d75-b38c-3eaf3328f844",
   "metadata": {},
   "source": [
    "# if-else and for loops"
   ]
  },
  {
   "cell_type": "code",
   "execution_count": 161,
   "id": "ec63ec0f-0abd-4225-82b1-fc178e3157e1",
   "metadata": {},
   "outputs": [],
   "source": [
    "age = 17"
   ]
  },
  {
   "cell_type": "code",
   "execution_count": 146,
   "id": "477fda46-ab8d-45ba-bd28-79f15854113e",
   "metadata": {},
   "outputs": [],
   "source": [
    "#Write a program to print if a member is eligible to drive - driving age is 17"
   ]
  },
  {
   "cell_type": "code",
   "execution_count": 150,
   "id": "6023009c-bd10-4e03-9d06-1addf1bcc2bc",
   "metadata": {},
   "outputs": [],
   "source": [
    "#if condition:\n",
    "#    things to do if the condition is true\n",
    "#else:\n",
    "#    things to do if the condition is false"
   ]
  },
  {
   "cell_type": "code",
   "execution_count": 163,
   "id": "6d0c0371-d8d0-4b7f-99c8-77b6d215730b",
   "metadata": {},
   "outputs": [
    {
     "name": "stdout",
     "output_type": "stream",
     "text": [
      "eligible to drive\n"
     ]
    }
   ],
   "source": [
    "if age >= 17:\n",
    "    print('eligible to drive')\n",
    "else:\n",
    "    print('not eligible to drive')"
   ]
  },
  {
   "cell_type": "code",
   "execution_count": 172,
   "id": "502185d5-3e95-4c36-b112-aa79f02348de",
   "metadata": {},
   "outputs": [],
   "source": [
    "marks = 90"
   ]
  },
  {
   "cell_type": "code",
   "execution_count": 174,
   "id": "aeb2b3fe-9cb4-4c85-afa5-61a1e63bff6d",
   "metadata": {},
   "outputs": [],
   "source": [
    "#Write a program to print the grade of the student - A > 90 else B"
   ]
  },
  {
   "cell_type": "code",
   "execution_count": 169,
   "id": "3d89d6fd-e0c0-4dff-970c-d501ec6e5df5",
   "metadata": {},
   "outputs": [
    {
     "name": "stdout",
     "output_type": "stream",
     "text": [
      "Grade = B\n",
      "88\n"
     ]
    }
   ],
   "source": [
    "if marks > 90:\n",
    "    print('Grade = A')\n",
    "    print(marks)\n",
    "else:\n",
    "    print('Grade = B')\n",
    "    print(marks)"
   ]
  },
  {
   "cell_type": "code",
   "execution_count": 176,
   "id": "c74b66a9-de23-4f2b-9600-a3532efce32a",
   "metadata": {},
   "outputs": [],
   "source": [
    "#Write a program to print the grade of the student\n",
    "# >90 A\n",
    "#80-90 B\n",
    "#<80 C"
   ]
  },
  {
   "cell_type": "code",
   "execution_count": 173,
   "id": "ade2832f-669c-4295-84f1-24bcdb4202e5",
   "metadata": {},
   "outputs": [
    {
     "name": "stdout",
     "output_type": "stream",
     "text": [
      "Grade - A\n",
      "90\n"
     ]
    }
   ],
   "source": [
    "if marks >= 90:\n",
    "    print('Grade - A')\n",
    "    print(marks)\n",
    "elif marks >= 80:\n",
    "    print('Grade - B')\n",
    "    print(marks)\n",
    "else:\n",
    "    print('Grade - c')\n",
    "    print(marks)"
   ]
  },
  {
   "cell_type": "code",
   "execution_count": 182,
   "id": "3bac8d6c-33dc-469c-a141-97f6238ff5aa",
   "metadata": {},
   "outputs": [],
   "source": [
    "#using loops for list of students grades"
   ]
  },
  {
   "cell_type": "code",
   "execution_count": 183,
   "id": "aa24251a-076b-4ad9-82d1-f511c5f9fc1d",
   "metadata": {},
   "outputs": [],
   "source": [
    "marks = [90, 88, 74, 96, 56]"
   ]
  },
  {
   "cell_type": "code",
   "execution_count": 184,
   "id": "565e6052-ab61-4d7a-aa81-d5ba1c25ff2e",
   "metadata": {},
   "outputs": [
    {
     "name": "stdout",
     "output_type": "stream",
     "text": [
      "Grade - B\n",
      "Grade - B\n",
      "Grade - C\n",
      "Grade - A\n",
      "Grade - C\n"
     ]
    }
   ],
   "source": [
    "#For loop\n",
    "for x in marks:\n",
    "    if x > 90:\n",
    "        print('Grade - A')\n",
    "    elif x > 80:\n",
    "        print('Grade - B')\n",
    "    else:\n",
    "        print('Grade - C')"
   ]
  },
  {
   "cell_type": "code",
   "execution_count": null,
   "id": "6c46fbc3-7599-41c3-9f1c-b50de151f27b",
   "metadata": {},
   "outputs": [],
   "source": []
  }
 ],
 "metadata": {
  "kernelspec": {
   "display_name": "Python 3 (ipykernel)",
   "language": "python",
   "name": "python3"
  },
  "language_info": {
   "codemirror_mode": {
    "name": "ipython",
    "version": 3
   },
   "file_extension": ".py",
   "mimetype": "text/x-python",
   "name": "python",
   "nbconvert_exporter": "python",
   "pygments_lexer": "ipython3",
   "version": "3.9.13"
  }
 },
 "nbformat": 4,
 "nbformat_minor": 5
}
